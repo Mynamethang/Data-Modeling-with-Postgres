{
 "cells": [
  {
   "cell_type": "code",
   "execution_count": 1,
   "id": "8ae1db84",
   "metadata": {},
   "outputs": [
    {
     "ename": "ModuleNotFoundError",
     "evalue": "No module named 'psycopg2'",
     "output_type": "error",
     "traceback": [
      "\u001b[1;31m---------------------------------------------------------------------------\u001b[0m",
      "\u001b[1;31mModuleNotFoundError\u001b[0m                       Traceback (most recent call last)",
      "Cell \u001b[1;32mIn[1], line 4\u001b[0m\n\u001b[0;32m      2\u001b[0m \u001b[38;5;28;01mimport\u001b[39;00m \u001b[38;5;21;01mos\u001b[39;00m\n\u001b[0;32m      3\u001b[0m \u001b[38;5;28;01mimport\u001b[39;00m \u001b[38;5;21;01mglob\u001b[39;00m\n\u001b[1;32m----> 4\u001b[0m \u001b[38;5;28;01mimport\u001b[39;00m \u001b[38;5;21;01mpsycopg2\u001b[39;00m\n\u001b[0;32m      5\u001b[0m \u001b[38;5;28;01mimport\u001b[39;00m \u001b[38;5;21;01mpandas\u001b[39;00m \u001b[38;5;28;01mas\u001b[39;00m \u001b[38;5;21;01mpd\u001b[39;00m\n",
      "\u001b[1;31mModuleNotFoundError\u001b[0m: No module named 'psycopg2'"
     ]
    }
   ],
   "source": [
    "from sql_queries import *\n",
    "import os\n",
    "import glob\n",
    "import psycopg2\n",
    "import pandas as pd"
   ]
  },
  {
   "cell_type": "markdown",
   "id": "76530391",
   "metadata": {},
   "source": [
    "CONNECT TO SPARKIFYDB DATABASE"
   ]
  },
  {
   "cell_type": "code",
   "execution_count": null,
   "id": "d5af5f99",
   "metadata": {},
   "outputs": [],
   "source": [
    "try:\n",
    "    conn = psycopg2.connect(\"host=localhost dbname=sparkifydb user=postgres password=12345678\")\n",
    "    cur = conn.cursor()\n",
    "except psycopg2.Error as error:\n",
    "    print(\"Could not connect to database\")\n",
    "    print(error)"
   ]
  },
  {
   "cell_type": "code",
   "execution_count": null,
   "id": "9c3beac8",
   "metadata": {},
   "outputs": [],
   "source": [
    "def get_files(filepath):\n",
    "    all_files = []\n",
    "    for root, dirs, files in os.walk(filepath):\n",
    "        files = glob.glob(os.path.join(root,'*.json'))\n",
    "        for f in files :\n",
    "            all_files.append(os.path.abspath(f))\n",
    "    \n",
    "    return all_files"
   ]
  },
  {
   "cell_type": "markdown",
   "id": "669c3a0e",
   "metadata": {},
   "source": [
    "PROCESS SONG DATA"
   ]
  },
  {
   "cell_type": "code",
   "execution_count": null,
   "id": "524dc76b",
   "metadata": {},
   "outputs": [],
   "source": [
    "song_files = get_files(\"data/song_data\")"
   ]
  },
  {
   "cell_type": "code",
   "execution_count": null,
   "id": "d664cc8a",
   "metadata": {},
   "outputs": [],
   "source": [
    "filepath = song_files[0]\n",
    "print(filepath)"
   ]
  },
  {
   "cell_type": "code",
   "execution_count": null,
   "id": "bbf85550",
   "metadata": {},
   "outputs": [],
   "source": [
    "df = pd.read_json(filepath, lines=True)\n",
    "df.head()"
   ]
  },
  {
   "cell_type": "markdown",
   "id": "28bed8a1",
   "metadata": {},
   "source": [
    "INSERT INTO ARTIST TABLE"
   ]
  },
  {
   "cell_type": "code",
   "execution_count": null,
   "id": "f58b5a86",
   "metadata": {},
   "outputs": [],
   "source": [
    "artist_data = df[['artist_id', 'artist_name', 'artist_location', 'artist_latitude', 'artist_longitude']].values[0].tolist()\n",
    "artist_data"
   ]
  },
  {
   "cell_type": "code",
   "execution_count": null,
   "id": "62663dbf",
   "metadata": {},
   "outputs": [],
   "source": [
    "cur.execute(artist_table_insert, artist_data)\n",
    "conn.commit()"
   ]
  },
  {
   "cell_type": "markdown",
   "id": "31774840",
   "metadata": {},
   "source": [
    "INSERT INTO SONGS TABLE"
   ]
  },
  {
   "cell_type": "code",
   "execution_count": null,
   "id": "02191487",
   "metadata": {},
   "outputs": [],
   "source": [
    "song_data = df[['song_id', 'title', 'artist_id', 'year', 'duration']].values[0].tolist()\n",
    "song_data"
   ]
  },
  {
   "cell_type": "code",
   "execution_count": null,
   "id": "ebe0cb73",
   "metadata": {},
   "outputs": [],
   "source": [
    "cur.execute(song_table_insert, song_data)\n",
    "conn.commit()"
   ]
  },
  {
   "cell_type": "markdown",
   "id": "1d091d9a",
   "metadata": {},
   "source": [
    "PROCESS LOG_DATA"
   ]
  },
  {
   "cell_type": "code",
   "execution_count": null,
   "id": "38c0c61f",
   "metadata": {},
   "outputs": [],
   "source": [
    "log_files = get_files(\"data/log_data\")"
   ]
  },
  {
   "cell_type": "code",
   "execution_count": null,
   "id": "79b110b1",
   "metadata": {},
   "outputs": [],
   "source": [
    "filepath = log_files[0]\n",
    "filepath"
   ]
  },
  {
   "cell_type": "code",
   "execution_count": null,
   "id": "c0eadde3",
   "metadata": {},
   "outputs": [],
   "source": [
    "df = pd.read_json(filepath, lines=True)\n",
    "df.head(13)"
   ]
  },
  {
   "cell_type": "markdown",
   "id": "d8348d6c",
   "metadata": {},
   "source": [
    "EXTRACT DATA FOR TIME TABLE\n"
   ]
  },
  {
   "cell_type": "code",
   "execution_count": null,
   "id": "8a470b9d",
   "metadata": {},
   "outputs": [],
   "source": [
    "\n",
    "# Filter records by NextSong action\n",
    "# Convert the ts timestamp column to datetime\n",
    "# Hint: the current timestamp is in milliseconds\n",
    "# Extract the timestamp, hour, day, week of year, month, year, and weekday from the ts column and set time_data to a list containing these values in order\n",
    "# Hint: use pandas' dt attribute to access easily datetimelike properties.\n",
    "# Specify labels for these columns and set to column_labels\n",
    "# Create a dataframe, time_df, containing the time data for this file by combining column_labels and time_data into a dictionary and converting this into a dataframe\n",
    "\n",
    "\n",
    "df = df[df['page'] == 'NextSong']\n",
    "df.head()\n"
   ]
  },
  {
   "cell_type": "code",
   "execution_count": null,
   "id": "d2a4265d",
   "metadata": {},
   "outputs": [],
   "source": [
    "t = pd.to_datetime(df['ts'], unit='ms')\n",
    "t.head()"
   ]
  },
  {
   "cell_type": "code",
   "execution_count": null,
   "id": "5e250035",
   "metadata": {},
   "outputs": [],
   "source": [
    "time_data = [t, t.dt.hour, t.dt.day, t.dt.isocalendar().week, t.dt.month, t.dt.year, t.dt.weekday]\n",
    "column_labels = ('start_time', 'hour', 'day', 'week', 'month', 'year', 'weekday')"
   ]
  },
  {
   "cell_type": "code",
   "execution_count": null,
   "id": "1562ca14",
   "metadata": {},
   "outputs": [],
   "source": [
    "time_df = pd.DataFrame.from_dict(dict(zip(column_labels, time_data)))\n",
    "time_df.head()"
   ]
  },
  {
   "cell_type": "markdown",
   "id": "efe38f67",
   "metadata": {},
   "source": [
    "Insert Records into Time Table"
   ]
  },
  {
   "cell_type": "code",
   "execution_count": null,
   "id": "22c58b08",
   "metadata": {},
   "outputs": [],
   "source": [
    "for i, row in time_df.iterrows():\n",
    "    cur.execute(time_table_insert, list(row))\n",
    "    conn.commit()"
   ]
  },
  {
   "cell_type": "markdown",
   "id": "a4c0ced6",
   "metadata": {},
   "source": [
    "Extract Data for Users Table"
   ]
  },
  {
   "cell_type": "code",
   "execution_count": null,
   "id": "bd383969",
   "metadata": {},
   "outputs": [],
   "source": [
    "user_df = df[['userId', 'firstName','lastName', 'gender', 'level']]"
   ]
  },
  {
   "cell_type": "markdown",
   "id": "7b766cb4",
   "metadata": {},
   "source": [
    "INSERT RECORDS INTO USERS TABLE "
   ]
  },
  {
   "cell_type": "code",
   "execution_count": null,
   "id": "255370bd",
   "metadata": {},
   "outputs": [],
   "source": [
    "for i, row in user_df.iterrows():\n",
    "    cur.execute(user_table_insert, row)\n",
    "    conn.commit()\n",
    "    "
   ]
  },
  {
   "cell_type": "markdown",
   "id": "c2e0982c",
   "metadata": {},
   "source": [
    "EXTRACT DATA AND SONGPLAYS TABLE"
   ]
  },
  {
   "cell_type": "code",
   "execution_count": null,
   "id": "953e98b6",
   "metadata": {},
   "outputs": [],
   "source": [
    "for index, row in df.iterrows():\n",
    "\n",
    "    # get songid and artistid from song and artist tables\n",
    "    cur.execute(song_select, (row.song, row.artist, row.length))\n",
    "    results = cur.fetchone()\n",
    "    \n",
    "    if results:\n",
    "        songid, artistid = results\n",
    "    else:\n",
    "        songid, artistid = None, None\n",
    "\n",
    "    # insert songplay record\n",
    "    songplay_data = ( row.ts, row.userId, row.level, songid, artistid, row.sessionId, row.location, row.userAgent)\n",
    "    cur.execute(songplay_table_insert, songplay_data)\n",
    "    conn.commit()"
   ]
  },
  {
   "cell_type": "code",
   "execution_count": null,
   "id": "f707096b",
   "metadata": {},
   "outputs": [],
   "source": [
    "df"
   ]
  },
  {
   "cell_type": "code",
   "execution_count": null,
   "id": "86923283",
   "metadata": {},
   "outputs": [],
   "source": [
    "conn.close()\n",
    "cur.close()"
   ]
  },
  {
   "cell_type": "code",
   "execution_count": null,
   "id": "6e1c365e",
   "metadata": {},
   "outputs": [],
   "source": [
    "path = \"data\\song_data\"\n",
    "df_test = pd.read_json(filepath, lines=True)"
   ]
  },
  {
   "cell_type": "code",
   "execution_count": null,
   "id": "c8f3cdca",
   "metadata": {},
   "outputs": [],
   "source": [
    "df_test"
   ]
  },
  {
   "cell_type": "code",
   "execution_count": null,
   "id": "7874950d",
   "metadata": {},
   "outputs": [],
   "source": [
    "print('hello')"
   ]
  },
  {
   "cell_type": "code",
   "execution_count": null,
   "id": "d1508abd",
   "metadata": {
    "scrolled": true
   },
   "outputs": [],
   "source": [
    "!pip install psycopg2\n"
   ]
  },
  {
   "cell_type": "code",
   "execution_count": null,
   "id": "ac76ea22",
   "metadata": {},
   "outputs": [],
   "source": [
    "import spycopg2"
   ]
  },
  {
   "cell_type": "code",
   "execution_count": null,
   "id": "b8e7b1eb",
   "metadata": {},
   "outputs": [],
   "source": [
    "import psycopg2\n"
   ]
  },
  {
   "cell_type": "code",
   "execution_count": null,
   "id": "50b93691",
   "metadata": {},
   "outputs": [],
   "source": [
    "!pip uninstall psycopg2\n"
   ]
  },
  {
   "cell_type": "code",
   "execution_count": null,
   "id": "f8cebe1e",
   "metadata": {},
   "outputs": [],
   "source": [
    "from bs4 import BeautifulSoup"
   ]
  },
  {
   "cell_type": "code",
   "execution_count": null,
   "id": "3dd541ae",
   "metadata": {},
   "outputs": [],
   "source": [
    "!py --version\n"
   ]
  },
  {
   "cell_type": "code",
   "execution_count": 1,
   "id": "694487a2",
   "metadata": {},
   "outputs": [
    {
     "ename": "ModuleNotFoundError",
     "evalue": "No module named 'psycopg2'",
     "output_type": "error",
     "traceback": [
      "\u001b[1;31m---------------------------------------------------------------------------\u001b[0m",
      "\u001b[1;31mModuleNotFoundError\u001b[0m                       Traceback (most recent call last)",
      "Cell \u001b[1;32mIn[1], line 1\u001b[0m\n\u001b[1;32m----> 1\u001b[0m \u001b[38;5;28;01mimport\u001b[39;00m \u001b[38;5;21;01mpsycopg2\u001b[39;00m\n",
      "\u001b[1;31mModuleNotFoundError\u001b[0m: No module named 'psycopg2'"
     ]
    }
   ],
   "source": [
    "import psycopg2"
   ]
  },
  {
   "cell_type": "code",
   "execution_count": 2,
   "id": "1cc876c3",
   "metadata": {},
   "outputs": [
    {
     "name": "stdout",
     "output_type": "stream",
     "text": [
      "1\n"
     ]
    }
   ],
   "source": [
    "print(1)"
   ]
  },
  {
   "cell_type": "code",
   "execution_count": null,
   "id": "17323fbd",
   "metadata": {},
   "outputs": [],
   "source": []
  }
 ],
 "metadata": {
  "kernelspec": {
   "display_name": "Python 3 (ipykernel)",
   "language": "python",
   "name": "python3"
  },
  "language_info": {
   "codemirror_mode": {
    "name": "ipython",
    "version": 3
   },
   "file_extension": ".py",
   "mimetype": "text/x-python",
   "name": "python",
   "nbconvert_exporter": "python",
   "pygments_lexer": "ipython3",
   "version": "3.10.9"
  }
 },
 "nbformat": 4,
 "nbformat_minor": 5
}
